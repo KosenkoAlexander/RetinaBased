{
 "cells":[
  {
   "cell_type":"markdown",
   "source":[
    "# Small"
   ],
   "attachments":{
    
   },
   "metadata":{
    "datalore":{
     "node_id":"Small",
     "type":"MD",
     "hide_input_from_viewers":false,
     "hide_output_from_viewers":false,
     "sheet_delimiter":true
    }
   }
  },
  {
   "cell_type":"markdown",
   "source":[
    "# Imports"
   ],
   "attachments":{
    
   },
   "metadata":{
    "datalore":{
     "node_id":"B2fl9u6tHrRIEjcYD6ZTbq",
     "type":"MD",
     "hide_input_from_viewers":true,
     "hide_output_from_viewers":true
    }
   }
  },
  {
   "cell_type":"code",
   "source":[
    "import os\n",
    "import requests\n",
    "import random\n",
    "import tarfile\n",
    "from tqdm import tqdm\n",
    "\n",
    "import numpy as np\n",
    "import pandas as pd\n",
    "import seaborn as sns\n",
    "import tensorflow as tf\n",
    "\n",
    "from keras.layers import Conv2D, MaxPool2D, AvgPool2D, Dense, Flatten, Dropout, Concatenate, Input, BatchNormalization, Activation, GlobalAveragePooling2D, Rescaling, Add, UpSampling2D\n",
    "from keras import Model\n",
    "from keras.optimizers import Adam\n",
    "from keras.callbacks import ModelCheckpoint\n",
    "\n",
    "import tensorflow.keras.datasets as tfds\n",
    "from keras.utils import to_categorical, plot_model\n",
    "\n",
    "from sklearn.model_selection import train_test_split\n",
    "\n",
    "from sklearn.metrics import classification_report, confusion_matrix\n",
    "\n",
    "import matplotlib.pyplot as plt\n",
    "\n",
    "from PIL import Image\n",
    "from PIL.PngImagePlugin import PngImageFile\n",
    "\n",
    "from IPython.display import display"
   ],
   "execution_count":2,
   "outputs":[
    
   ],
   "metadata":{
    "datalore":{
     "node_id":"DfSPO6KmFJLVDrJJTz077t",
     "type":"CODE",
     "hide_input_from_viewers":true,
     "hide_output_from_viewers":true
    }
   }
  },
  {
   "cell_type":"markdown",
   "source":[
    "# Preexisting layers\n",
    "\n",
    "We use several models that existed before, namely Inveption and Inception V2 modules (residual connections, skip connections and batch normalization are implemented and can be toggled on), reduction block from Minception, ASPP block from DeepLab 3."
   ],
   "attachments":{
    
   },
   "metadata":{
    "datalore":{
     "node_id":"iiGrkxa1uNnN7iRFarmNsG",
     "type":"MD",
     "hide_input_from_viewers":true,
     "hide_output_from_viewers":true
    }
   }
  },
  {
   "cell_type":"code",
   "source":[
    "def inception(input_layer, filters_1x1, filters_1x1_pre3x3, filters_3x3, filters_1x1_pre5x5, filters_5x5, filters_1x1_postpool, activation=None, residual=False, skip=False, residual_scale=0.1):\n",
    "  '''Implements Inception block\n",
    "\n",
    "  Args:\n",
    "  input_layer: output of previous layer\n",
    "  filters_1x1: number of filters of 1x1 convolution from 1x1 branch\n",
    "  filters_1x1pre3x3: number of filters of 1x1 convolution from 3x3 branch\n",
    "  filters_3x3: number of filters of 3x3 convolution from 3x3 branch\n",
    "  filters_1x1pre5x5: number of filters of 1x1 convolution from 5x5 branch\n",
    "  filters_5x5: number of filters of 5x5 convolution from 5x5 branch\n",
    "  filters_1x1_postpool: number of filters of 1x1 convolution from pooling branch\n",
    "  activation: activation function applied to convolutions\n",
    "  residual: if True adds residual connections, before setting to True ensure that channel number of input_layer equals filters_1x1+filters_3x3+filters_5x5+filters_1x1_postpool\n",
    "  skip: if True adds skip connections, is applied after residual connection if both are True\n",
    "  residual_scale: scales input_layer before adding as residual connection\n",
    "\n",
    "  Returns:\n",
    "  output of layer, shape is that of input_layer with channel dimension replaced with filters_1x1+filters_3x3+filters_5x5+filters_1x1_postpool+(input_layer channel number if skip=True)\n",
    "  '''\n",
    "  conv1x1=Conv2D(filters_1x1, 1, activation=activation)(input_layer)\n",
    "\n",
    "  conv1x1pre3x3=Conv2D(filters_1x1_pre3x3, 1, activation=activation)(input_layer)\n",
    "  conv3x3=Conv2D(filters_3x3, 3, padding='same', activation=activation)(conv1x1pre3x3)\n",
    "\n",
    "  conv1x1pre5x5=Conv2D(filters_1x1_pre5x5, 1)(input_layer)\n",
    "  conv5x5=Conv2D(filters_5x5, 5, padding='same', activation=activation)(conv1x1pre5x5)\n",
    "\n",
    "  pooling3x3=MaxPool2D(3, 1, padding='same')(input_layer)\n",
    "  conv1x1postpool=Conv2D(filters_1x1_postpool, 1, activation=activation)(pooling3x3)\n",
    "\n",
    "  concat=Concatenate()([conv1x1, conv3x3, conv5x5, conv1x1postpool])\n",
    "  if residual:\n",
    "    added=Rescaling(residual_scale)(input_layer)\n",
    "    concat=Add()([concat, added])\n",
    "  return Concatenate()([concat, input_layer]) if skip else concat\n",
    "\n",
    "def inception_v2(input_layer, filters_1x1, filters_1x1_pre3x3, filters_3x3, filters_1x1_pre3x3pair, filters_3x3pair0, filters_3x3pair1, filters_1x1_postpool, activation=None, residual=False, skip=False, residual_scale=0.1):\n",
    "  '''Implements Inception block\n",
    "\n",
    "  Args:\n",
    "  input_layer: output of previous layer\n",
    "  filters_1x1: number of filters of 1x1 convolution from 1x1 branch\n",
    "  filters_1x1pre3x3: number of filters of 1x1 convolution from 3x3 branch\n",
    "  filters_3x3: number of filters of 3x3 convolution from 3x3 branch\n",
    "  filters_1x1pre3x3pair: number of filters of 1x1 convolution from 3x3 pair branch\n",
    "  filters_3x3pair0: number of filters of first 3x3 convolution from 3x3 pair branch\n",
    "  filters_3x3pair1: number of filters of second 3x3 convolution from 3x3 pair branch\n",
    "  filters_1x1_postpool: number of filters of 1x1 convolution from pooling branch\n",
    "  activation: activation function applied to convolutions\n",
    "  residual: if True adds residual connections, before setting to True ensure that channel number of input_layer equals filters_1x1+filters_3x3+filters_3x3pair1+filters_1x1_postpool\n",
    "  skip: if True adds skip connections, is applied after residual connection if both are True\n",
    "  residual_scale: scales input_layer before adding as residual connection\n",
    "\n",
    "  Returns:\n",
    "  output of layer, shape is that of input_layer with channel dimension replaced with filters_1x1+filters_3x3+filters_3x3pair1+filters_1x1_postpool+(input_layer channel number if skip=True)\n",
    "  '''\n",
    "  conv1x1=Conv2D(filters_1x1, 1, activation=activation)(input_layer)\n",
    "\n",
    "  conv1x1pre3x3=Conv2D(filters_1x1_pre3x3, 1, activation=activation)(input_layer)\n",
    "  conv3x3=Conv2D(filters_3x3, 3, padding='same', activation=activation)(conv1x1pre3x3)\n",
    "\n",
    "  conv1x1pre3x3pair=Conv2D(filters_1x1_pre3x3pair, 1, activation=activation)(input_layer)\n",
    "  conv3x3pair0=Conv2D(filters_3x3pair0, 3, padding='same', activation=activation)(conv1x1pre3x3pair)\n",
    "  conv3x3pair1=Conv2D(filters_3x3pair1, 3, padding='same', activation=activation)(conv3x3pair0)\n",
    "\n",
    "  pooling3x3=MaxPool2D(3, 1, padding='same')(input_layer)\n",
    "  conv1x1postpool=Conv2D(filters_1x1_postpool, 1, activation=activation)(pooling3x3)\n",
    "  \n",
    "  concat=Concatenate()([conv1x1, conv3x3, conv3x3pair1, conv1x1postpool])\n",
    "  if residual:\n",
    "    added=Rescaling(residual_scale)(input_layer)\n",
    "    concat=Add()([concat, added])\n",
    "  return Concatenate()([concat, input_layer]) if skip else concat\n",
    "\n",
    "def reduction(input_layer, filters_3x3trio_s2, filters_3x3trio_1, filters_3x3trio_2, filters_3x3s2, batch_normalization=False, activation=None):\n",
    "  '''Implements reduction block from Minception\n",
    "\n",
    "  Args:\n",
    "  input_layer: output of previous layer\n",
    "  filters_3x3trio_s2: number of filters of first 3x3 convolution (which has strides=2) from 3x3 trio branch\n",
    "  filters_3x3trio_1: number of filters of second 3x3 convolution from 3x3 trio branch\n",
    "  filters_3x3trio_2: number of filters of third 3x3 convolution from 3x3 trio branch\n",
    "  filters_3x3s2: number of filters of 3x3 convolution vith strides=2 from 3x3 branch\n",
    "  batch_normalization: adds batch normalization if True\n",
    "  activation: activation function applied to convolutions\n",
    "\n",
    "  Returns:\n",
    "  output of layer, shape is [batch dimension of input_layer, first spatial dimension of input layer \/ 2, second spatial dimension of input_layer \/ 2, filters_3x3trio_2+filters_3x3s2+channel dimension of input_layer]\n",
    "  '''\n",
    "  conv3x3trio_s2=Conv2D(filters_3x3trio_s2, 3, strides=2, padding='same')(input_layer)\n",
    "  if batch_normalization:\n",
    "    conv3x3trio_s2=BatchNormalization()(conv3x3trio_s2)\n",
    "  conv3x3trio_s2=Activation(activation)(conv3x3trio_s2)\n",
    "  conv3x3trio1=Conv2D(filters_3x3trio_1, 3, padding='same')(conv3x3trio_s2)\n",
    "  if batch_normalization:\n",
    "    conv3x3trio1=BatchNormalization()(conv3x3trio1)\n",
    "  conv3x3trio1=Activation(activation)(conv3x3trio1)\n",
    "  conv3x3trio2=Conv2D(filters_3x3trio_2, 3, padding='same')(conv3x3trio1)\n",
    "  if batch_normalization:\n",
    "    conv3x3trio2=BatchNormalization()(conv3x3trio2)\n",
    "  conv3x3trio2=Activation(activation)(conv3x3trio2)\n",
    "\n",
    "  conv3x3s2=Conv2D(filters_3x3s2, 3, strides=2, padding='same')(input_layer)\n",
    "  if batch_normalization:\n",
    "    conv3x3s2=BatchNormalization()(conv3x3s2)\n",
    "  conv3x3s2=Activation(activation)(conv3x3s2)\n",
    "\n",
    "  pooling3x3=MaxPool2D(3, strides=2)(input_layer)\n",
    "\n",
    "  return Concatenate()([conv3x3trio2, conv3x3s2, pooling3x3])"
   ],
   "execution_count":3,
   "outputs":[
    
   ],
   "metadata":{
    "datalore":{
     "node_id":"ZpGjdS3po3yflQNqfbBZad",
     "type":"CODE",
     "hide_input_from_viewers":true,
     "hide_output_from_viewers":true
    }
   }
  },
  {
   "cell_type":"code",
   "source":[
    "def ASPP(input_layer, filters_size_rate_list, filters_1x1global, batch_normalization=False, activation=None):\n",
    "  '''Implements ASPP\n",
    "\n",
    "  Args:\n",
    "  input_layer: output of previous layer\n",
    "  filters_size_rate_list: list of tuples (filter number, kernel size, dilation rate) for parallel atrous convolution layers\n",
    "  filters_1x1global: number of filters applied to 1x1 convolution on global pooling\n",
    "  batch_normalization: if True applies batch normalization\n",
    "  activation: activation function applied to convolution outputs\n",
    "\n",
    "  Returns:\n",
    "  output of layer, size is that of input_layer with channel dimension replaced with sum of filter numbers from filters_size_rate_list + filters_1x1global\n",
    "  '''\n",
    "  concat_list=[]\n",
    "  for filters_size_rate in filters_size_rate_list:\n",
    "    conv=Conv2D(filters_size_rate[0], filters_size_rate[1], dilation_rate=filters_size_rate[2], padding='same')(input_layer)\n",
    "    if batch_normalization:\n",
    "      conv=BatchNormalization()(conv)\n",
    "    conv=Activation(activation)(conv)\n",
    "    concat_list.append(conv)\n",
    "  global_pool=GlobalAveragePooling2D(keepdims=True)(input_layer)\n",
    "  conv1x1global=Conv2D(filters_1x1global, 1)(global_pool)\n",
    "  if batch_normalization:\n",
    "    conv1x1global=BatchNormalization()(conv1x1global)\n",
    "  conv1x1global=Activation(activation)(conv1x1global)\n",
    "  conv1x1global=UpSampling2D(input_layer.shape[1:3], interpolation='bilinear')(conv1x1global)\n",
    "  concat_list.append(conv1x1global)\n",
    "  return Concatenate()(concat_list)"
   ],
   "execution_count":4,
   "outputs":[
    
   ],
   "metadata":{
    "datalore":{
     "node_id":"Z74C6f97NHUyu1NbKMivvg",
     "type":"CODE",
     "hide_input_from_viewers":true,
     "hide_output_from_viewers":true
    }
   }
  },
  {
   "cell_type":"markdown",
   "source":[
    "# Statistical functions"
   ],
   "attachments":{
    
   },
   "metadata":{
    "datalore":{
     "node_id":"TbRlxDTFevXqV5zUndB0ya",
     "type":"MD",
     "hide_input_from_viewers":true,
     "hide_output_from_viewers":true
    }
   }
  },
  {
   "cell_type":"markdown",
   "source":[
    "## Show train\/validation metrics graphics"
   ],
   "attachments":{
    
   },
   "metadata":{
    "datalore":{
     "node_id":"0sMDLk7NtGoU8D9gLPb5Gr",
     "type":"MD",
     "hide_input_from_viewers":true,
     "hide_output_from_viewers":true
    }
   }
  },
  {
   "cell_type":"code",
   "source":[
    "def show_train_graphs(history, metrics=['accuracy', 'loss'], figsize=(15, 5), column_num=2):\n",
    "    plt.figure(figsize=figsize)\n",
    "    row_num = int(np.ceil(len(metrics)\/column_num))\n",
    "    for i, metric in enumerate(metrics):\n",
    "        plt.subplot(row_num, column_num, i+1)\n",
    "        plt.plot(history.history[metric], label='train')\n",
    "        plt.plot(history.history['val_' + metric], label='validation')\n",
    "        plt.legend()\n",
    "        plt.title(metric)\n",
    "\n",
    "    plt.show()"
   ],
   "execution_count":5,
   "outputs":[
    
   ],
   "metadata":{
    "datalore":{
     "node_id":"sQdOS0qTJZW1WlwzKK73iV",
     "type":"CODE",
     "hide_input_from_viewers":true,
     "hide_output_from_viewers":true
    }
   }
  },
  {
   "cell_type":"markdown",
   "source":[
    "## Show heatmap"
   ],
   "attachments":{
    
   },
   "metadata":{
    "datalore":{
     "node_id":"0EwQOUILRvgIzWGdSYLPMb",
     "type":"MD",
     "hide_input_from_viewers":true,
     "hide_output_from_viewers":true
    }
   }
  },
  {
   "cell_type":"code",
   "source":[
    "def make_prediction(model, x_test, y_test):\n",
    "  y_predict = model.predict(x_test, verbose=1)\n",
    "  y_predict = y_predict.argmax(axis=1)\n",
    "  return y_test.argmax(axis=1), y_predict\n",
    "\n",
    "def show_prediction_results_deployed(model, x_test, y_test):\n",
    "  y_test, y_predict = make_prediction(model, x_test, y_test)\n",
    "  data = pd.DataFrame(classification_report(y_test, y_predict, output_dict=True, )).T\n",
    "  data = data.applymap(lambda x: round(x,4))\n",
    "\n",
    "  display(data)\n",
    "  sns.heatmap(confusion_matrix(y_test, y_predict), annot = True, fmt='.0f')"
   ],
   "execution_count":6,
   "outputs":[
    
   ],
   "metadata":{
    "datalore":{
     "node_id":"Fmcr9gteFZRIpPLZ1uIips",
     "type":"CODE",
     "hide_input_from_viewers":true,
     "hide_output_from_viewers":true
    }
   }
  },
  {
   "cell_type":"markdown",
   "source":[
    "# RetinaLike layers\n",
    "\n",
    "Retina like layers implement the idea of having small high-resolution vision region, surrounded by low-resolution, like in human eyes, where there's a small high-resolution image of retina - fovea."
   ],
   "attachments":{
    
   },
   "metadata":{
    "datalore":{
     "node_id":"tD2GsIeTJJHhS97ylHgqB8",
     "type":"MD",
     "hide_input_from_viewers":true,
     "hide_output_from_viewers":true
    }
   }
  },
  {
   "cell_type":"markdown",
   "source":[
    "## Simple\n",
    "\n",
    "Simple implementation consists of parallel processing of small high-resolution region and larger low-resolution region."
   ],
   "attachments":{
    
   },
   "metadata":{
    "datalore":{
     "node_id":"DE12kISMDmeFQnBMt0ibTX",
     "type":"MD",
     "hide_input_from_viewers":true,
     "hide_output_from_viewers":true
    }
   }
  },
  {
   "cell_type":"code",
   "source":[
    "def retina_like(input_layer, kernel_size, filters_regular,\n",
    "                filters_atrous,\n",
    "                vision_rate=3, pool_function=AvgPool2D, activation=None,\n",
    "                skip=False):\n",
    "    '''Implements retina_like layer which has central high-resolution region surrounded by larger low-resolution region.\n",
    "\n",
    "    Args:\n",
    "    input_layer: output of previous layer\n",
    "    kernel_size: size of high resolution region\n",
    "    filters_regular: number of filters applied to high-resolution region\n",
    "    filters_atrous: number of filters applied to low-resolution region\n",
    "    vision_rate: relative size of low-resolution field (it's actual size is vision_rate*kernel_size)\n",
    "    pool_function: pooling used for making low-resolution region\n",
    "    activation: activation applied to convolutions\n",
    "    skip: adds skip connections\n",
    "\n",
    "    Returns:\n",
    "    output of layer, shape equals input_layer shape with channel dimension replaced by filters_regular+filters_atrous\n",
    "    '''\n",
    "    conv_regular = Conv2D(filters_regular, kernel_size, padding='same', activation=activation)(input_layer)\n",
    "\n",
    "    pool = pool_function((kernel_size, kernel_size), strides=(1, 1), padding='same')(input_layer)\n",
    "    conv_atrous = Conv2D(filters_atrous, vision_rate, dilation_rate=kernel_size, padding='same', activation=activation)(\n",
    "        pool)\n",
    "\n",
    "    return Concatenate()([conv_regular, conv_atrous] + ([input_layer] if skip else []))"
   ],
   "execution_count":7,
   "outputs":[
    
   ],
   "metadata":{
    "datalore":{
     "node_id":"qmrUNKKGQUR6fci5nx68LJ",
     "type":"CODE",
     "hide_input_from_viewers":true,
     "hide_output_from_viewers":true
    }
   }
  },
  {
   "cell_type":"markdown",
   "source":[
    "## Deep architecture\n",
    "\n",
    "Deep architecture adds 1x1 convolution layers to mix information collected from high-resolution region and low-resolution region."
   ],
   "attachments":{
    
   },
   "metadata":{
    "datalore":{
     "node_id":"lzIxCLuPr55ktTxdN3N21B",
     "type":"MD",
     "hide_input_from_viewers":true,
     "hide_output_from_viewers":true
    }
   }
  },
  {
   "cell_type":"code",
   "source":[
    "def deep_retina_like(input_layer, kernel_size, filters_regular,\n",
    "                     filters_atrous,\n",
    "                     filters_activations_list,\n",
    "                     vision_rate=3, pool_function=AvgPool2D, activation_retina=None,\n",
    "                     skip=False):\n",
    "    '''Implements retina_like layer with 1x1 convolutions stacked on top of it.\n",
    "\n",
    "    Args:\n",
    "    input_layer: output of previous layer\n",
    "    kernel_size: size of high resolution region\n",
    "    filters_regular: number of filters applied to high-resolution region\n",
    "    filters_atrous: number of filters applied to low-resolution region\n",
    "    filters_activations_list: list of (filters, activation) typles which provide number of filters and activation functions for 1x1 convolution layers added on top of retina_like\n",
    "    vision_rate: relative size of low-resolution field (it's actual size is vision_rate*kernel_size)\n",
    "    pool_function: pooling used for making low-resolution region\n",
    "    activation_retina: activation applied to convolutions of retina_like\n",
    "    skip: adds skip connections\n",
    "\n",
    "    Returns:\n",
    "    output of layer, shape equals input_layer shape with channel dimension replaced by filters of last tuple in filters_activations_list\n",
    "    '''\n",
    "    input_layer = retina_like(input_layer, kernel_size, filters_regular, filters_atrous, vision_rate, pool_function,\n",
    "                              activation=activation_retina, skip=skip)\n",
    "    for filters_activations in filters_activations_list:\n",
    "        input_layer = Conv2D(filters_activations[0], 1, activation=filters_activations[1])(input_layer)\n",
    "    return input_layer"
   ],
   "execution_count":8,
   "outputs":[
    
   ],
   "metadata":{
    "datalore":{
     "node_id":"SSU9J0HwcRUUQqcN1uVulm",
     "type":"CODE",
     "hide_input_from_viewers":true,
     "hide_output_from_viewers":true
    }
   }
  },
  {
   "cell_type":"markdown",
   "source":[
    "## Summation retina\n",
    "\n",
    "Another approach to mixing information is to sum it, connecting parallel convolutions into one filter."
   ],
   "attachments":{
    
   },
   "metadata":{
    "datalore":{
     "node_id":"drbtxnhR63ANf3gSL8SFPf",
     "type":"MD",
     "hide_input_from_viewers":true,
     "hide_output_from_viewers":true
    }
   }
  },
  {
   "cell_type":"code",
   "source":[
    "def retina_sum(input_layer, kernel_size, filters, vision_rate=3, pool_function=AvgPool2D, activation=None):\n",
    "    '''Implements retina_like layer which sums information from high- and low-resolution regions.\n",
    "\n",
    "    Args:\n",
    "    input_layer: output of previous layer\n",
    "    kernel_size: size of high resolution region\n",
    "    filters: number of filters\n",
    "    vision_rate: relative size of low-resolution field (it's actual size is vision_rate*kernel_size)\n",
    "    pool_function: pooling used for making low-resolution region\n",
    "    activation: activation applied to convolutions\n",
    "\n",
    "    Returns:\n",
    "    output of layer, shape equals input_layer shape with channel dimension replaced by filters\n",
    "    '''\n",
    "    conv_regular = Conv2D(filters, kernel_size, padding='same')(input_layer)\n",
    "\n",
    "    pool=pool_function(kernel_size, strides=(1,1), padding='same')(input_layer)\n",
    "    conv_atrous=Conv2D(filters, vision_rate, dilation_rate=kernel_size, padding='same')(pool)\n",
    "\n",
    "    sum=Add()([conv_regular, conv_atrous])\n",
    "\n",
    "    return Activation(activation)(sum)"
   ],
   "execution_count":9,
   "outputs":[
    
   ],
   "metadata":{
    "datalore":{
     "node_id":"E0TKLJzvDiUTD6UClXfUxh",
     "type":"CODE",
     "hide_input_from_viewers":true,
     "hide_output_from_viewers":true
    }
   }
  },
  {
   "cell_type":"markdown",
   "source":[
    "## Retina inception\n",
    "\n",
    "Modified version of inception blocks, convolutions with kernel size more than 1x1 are replaced with retina_like layer of same kernel size."
   ],
   "attachments":{
    
   },
   "metadata":{
    "datalore":{
     "node_id":"zFdKzvpyzZjQe6nzTXFooW",
     "type":"MD",
     "hide_input_from_viewers":true,
     "hide_output_from_viewers":true
    }
   }
  },
  {
   "cell_type":"markdown",
   "source":[
    "### v1\n",
    "\n",
    "Modification of original inception block? which contained 1x1 convolution, 3x3 convolution (replaced with 3x3 retina_like) preceded by 1x1 convolution for dimensionality reduction, 5x5 convolution (replaced by 5x5 retina_like) preceded by 1x1 convolution for dimensionality reduction, and 3x3 pooping followed by 1x1 convolution in parallel."
   ],
   "attachments":{
    
   },
   "metadata":{
    "datalore":{
     "node_id":"Wp9oYNMGM0oeBPjQJSEik7",
     "type":"MD",
     "hide_input_from_viewers":true,
     "hide_output_from_viewers":true
    }
   }
  },
  {
   "cell_type":"code",
   "source":[
    "def retina_inception(input_layer, filters_1x1, filters_1x1_pre3x3, filters_regular_3x3, filters_atrous_3x3, filters_1x1_pre5x5, filters_regular_5x5, filters_atrous_5x5, filters_1x1_postpool, vision_rate_3x3=3, vision_rate_5x5=3, pool_function=AvgPool2D, activation=None, activation_retina=None, batch_normalization=False, residual=False, skip=False, residual_scale=0.1):\n",
    "  '''Implements inception block with convolutions larger than 1x1 replaced with corresponding retina_like layers.\n",
    "  \n",
    "  Args:\n",
    "  input_layer: output of previous layer\n",
    "  filters_1x1: filter number of 1x1 convolution from 1x1 branch\n",
    "  filters_1x1_pre3x3: filter number of 1x1 convolution from 3x3 branch\n",
    "  filters_regular_3x3: filter number of high-resolution region of 3x3 retina_like from 3x3 branch\n",
    "  filters_atrous_3x3: filter number of low-resolution region of 3x3 retina_like from 3x3 branch\n",
    "  filters_1x1_pre5x5: filter number of 1x1 convolution from 5x5 branch\n",
    "  filters_regular_5x5: filter number of high-resolution region of 5x5 retina_like from 5x5 branch\n",
    "  filters_atrous_5x5: filter number of low-resolution region of 5x5 retina_like from 5x5 branch\n",
    "  filters_1x1_postpool: filter number of 1x1 convolution from pooling branch\n",
    "  vision_rate_3x3: vision rate of 3x3 retina_like from 3x3 branch\n",
    "  vision_rate_5x5: vision rate of 5x5 retina_like from 5x5 branch\n",
    "  pool_function: pooling used for making low-resolution regions\n",
    "  activation: activation of convolution layers\n",
    "  activation_retina: activation of retina_like layers\n",
    "  batch_normalization: applies batch normalization if True\n",
    "  residual: adds residual connections if True, ensure that input_layer channel number equals filters_1x1+filters_regular_3x3+filters_atrous_3x3+filters_regular_5x5+filters_atrous_5x5+filters_1x1_postpool before setting to True\n",
    "  skip: adds skip connections if True, is applied after residual connection if both are True\n",
    "  residual_scale: scales input_layer before adding to inception block output as residual connection\n",
    "\n",
    "  Returns:\n",
    "  output of layer, shape equals that of input_layer shape with channel dimension replaced with filters_1x1+filters_regular_3x3+filters_atrous_3x3+filters_regular_5x5+filters_atrous_5x5+filters_1x1_postpool+(number of input_layer channels if skip=True)\n",
    "  '''\n",
    "  conv1x1=Conv2D(filters_1x1, 1, padding='same')(input_layer)\n",
    "  if batch_normalization:\n",
    "    conv1x1=BatchNormalization()(conv1x1)\n",
    "  conv1x1=Activation(activation)(conv1x1)\n",
    "\n",
    "  conv1x1pre3x3=Conv2D(filters_1x1_pre3x3, 1, padding='same')(input_layer)\n",
    "  if batch_normalization:\n",
    "    conv1x1pre3x3=BatchNormalization()(conv1x1pre3x3)\n",
    "  conv1x1pre3x3=Activation(activation)(conv1x1pre3x3)\n",
    "  retina3x3=retina_like(conv1x1pre3x3, 3, filters_regular_3x3, filters_atrous_3x3, vision_rate_3x3, pool_function, None)\n",
    "  if batch_normalization:\n",
    "    retina3x3=BatchNormalization()(retina3x3)\n",
    "  retina3x3=Activation(activation_retina)(retina3x3)\n",
    "\n",
    "  conv1x1pre5x5=Conv2D(filters_1x1_pre5x5, 1, padding='same')(input_layer)\n",
    "  if batch_normalization:\n",
    "    conv1x1pre5x5=BatchNormalization()(conv1x1pre5x5)\n",
    "  conv1x1pre5x5=Activation(activation)(conv1x1pre5x5)\n",
    "  retina5x5=retina_like(conv1x1pre5x5, 3, filters_regular_5x5, filters_atrous_5x5, vision_rate_5x5, pool_function, None)\n",
    "  if batch_normalization:\n",
    "    retina5x5=BatchNormalization()(retina5x5)\n",
    "  retina5x5=Activation(activation_retina)(retina5x5)\n",
    "\n",
    "  pooling3x3=MaxPool2D(3, strides=1, padding='same')(input_layer)\n",
    "  conv1x1postpool=Conv2D(filters_1x1_postpool, 1)(pooling3x3)\n",
    "  if batch_normalization:\n",
    "    conv1x1postpool=BatchNormalization()(conv1x1postpool)\n",
    "  conv1x1postpool=Activation(activation)(conv1x1postpool)\n",
    "\n",
    "  concat=Concatenate()([conv1x1, retina3x3, retina5x5, conv1x1postpool])\n",
    "  if residual:\n",
    "    added=Rescaling(residual_scale)(input_layer)\n",
    "    concat=Add()([concat, added])\n",
    "\n",
    "  return Concatenate()([concat, input_layer]) if skip else concat"
   ],
   "execution_count":10,
   "outputs":[
    
   ],
   "metadata":{
    "datalore":{
     "node_id":"SxSr7qLuA2kEuUfmPUim6Y",
     "type":"CODE",
     "hide_input_from_viewers":true,
     "hide_output_from_viewers":true
    }
   }
  },
  {
   "cell_type":"markdown",
   "source":[
    "### v2\n",
    "\n",
    "Modification of inception v2 block, which factorized 5x5 convolution from previous version with 2 subsequent 3x3 convolution (here both are replaced with 3x3 retina_like)."
   ],
   "attachments":{
    
   },
   "metadata":{
    "datalore":{
     "node_id":"9Ocppa3KagQ1vkp1DCPWZo",
     "type":"MD",
     "hide_input_from_viewers":true,
     "hide_output_from_viewers":true
    }
   }
  },
  {
   "cell_type":"code",
   "source":[
    "def retina_inception_v2(input_layer,\n",
    "                        filters_1x1,\n",
    "                        filters_1x1_pre3x3, filters_regular_3x3, filters_atrous_3x3,\n",
    "                        filters_1x1_pre3x3pair, filters_regular_3x3pair0, filters_atrous_3x3pair0,\n",
    "                        filters_regular_3x3pair1, filters_atrous_3x3pair1,\n",
    "                        filters_1x1_postpool,\n",
    "                        vision_rate_3x3=3, vision_rate_3x3pair=3,\n",
    "                        pool_function=AvgPool2D,\n",
    "                        activation=None, activation_retina=None):\n",
    "    '''Implements inception block with convolutions larger than 1x1 replaced with corresponding retina_like layers.\n",
    "    \n",
    "    Args:\n",
    "    input_layer: output of previous layer\n",
    "    filters_1x1: filter number of 1x1 convolution from 1x1 branch\n",
    "    filters_1x1_pre3x3: filter number of 1x1 convolution from 3x3 branch\n",
    "    filters_regular_3x3: filter number of high-resolution region of 3x3 retina_like from 3x3 branch\n",
    "    filters_atrous_3x3: filter number of low-resolution region of 3x3 retina_like from 3x3 branch\n",
    "    filters_1x1_pre3x3pair: filter number of 1x1 convolution from 3x3 pair branch\n",
    "    filters_regular_3x3pair0: filter number of high-resolution region of first 3x3 retina_like from 3x3 pair branch\n",
    "    filters_atrous_3x3pair0: filter number of low-resolution region of first 3x3 retina_like from 3x3 pair branch\n",
    "    filters_regular_3x3pair1: filter number of high-resolution region of second 3x3 retina_like from 3x3 pair branch\n",
    "    filters_atrous_3x3pair1: filter number of low-resolution region of second 3x3 retina_like from 3x3 pair branch\n",
    "    filters_1x1_postpool: filter number of 1x1 convolution from pooling branch\n",
    "    vision_rate_3x3: vision rate of 3x3 retina_like from 3x3 branch\n",
    "    vision_rate_3x3pair: vision rate of 3x3 retina_like layers from 3x3 pair branch\n",
    "    pool_function: pooling used for making low-resolution regions\n",
    "    activation: activation of convolution layers\n",
    "    activation_retina: activation of retina_like layers\n",
    "\n",
    "    Returns:\n",
    "    output of layer, shape equals that of input_layer shape with channel dimension replaced with filters_1x1+filters_regular_3x3+filters_atrous_3x3+filters_regular_3x3pair1+filters_atrous_3x3pair1+filters_1x1_postpool\n",
    "    '''\n",
    "    conv1x1 = Conv2D(filters_1x1, 1, activation=activation, padding='same')(input_layer)\n",
    "\n",
    "    conv1x1pre3x3 = Conv2D(filters_1x1_pre3x3, 1, activation=activation, padding='same')(input_layer)\n",
    "    retina3x3 = retina_like(conv1x1pre3x3, 3, filters_regular_3x3, filters_atrous_3x3, vision_rate_3x3, pool_function,\n",
    "                            activation_retina)\n",
    "\n",
    "    conv1x1pre3x3pair = Conv2D(filters_1x1_pre3x3pair, 1, activation=activation, padding='same')(input_layer)\n",
    "    retina3x3pair0 = retina_like(conv1x1pre3x3pair, 3, filters_regular_3x3pair0, filters_atrous_3x3pair0,\n",
    "                                 vision_rate_3x3pair, pool_function, activation_retina)\n",
    "    retina3x3pair1 = retina_like(retina3x3pair0, 3, filters_regular_3x3pair1, filters_atrous_3x3pair1,\n",
    "                                 vision_rate_3x3pair, pool_function, activation_retina)\n",
    "\n",
    "    pooling3x3 = MaxPool2D(3, strides=1, padding='same')(input_layer)\n",
    "    conv1x1postpool = Conv2D(filters_1x1_postpool, 1, activation=activation)(pooling3x3)\n",
    "\n",
    "    return Concatenate()([conv1x1, retina3x3, retina3x3pair1, conv1x1postpool])"
   ],
   "execution_count":11,
   "outputs":[
    
   ],
   "metadata":{
    "datalore":{
     "node_id":"VJreKXFJ8ODvuYLlJUmTHv",
     "type":"CODE",
     "hide_input_from_viewers":true,
     "hide_output_from_viewers":true
    }
   }
  },
  {
   "cell_type":"markdown",
   "source":[
    "# Classification task (fashion MNIST)"
   ],
   "attachments":{
    
   },
   "metadata":{
    "datalore":{
     "node_id":"mVgzF7loDDUUHDix98R5P4",
     "type":"MD",
     "hide_input_from_viewers":true,
     "hide_output_from_viewers":true
    }
   }
  },
  {
   "cell_type":"markdown",
   "source":[
    "## Classification task constants"
   ],
   "attachments":{
    
   },
   "metadata":{
    "datalore":{
     "node_id":"EKdO4X4aCL1NAdbAY2rRNE",
     "type":"MD",
     "hide_input_from_viewers":true,
     "hide_output_from_viewers":true
    }
   }
  },
  {
   "cell_type":"code",
   "source":[
    "train_valid_size = 0.2\n",
    "shape_of_fashion_mnist = (28,28,1)\n",
    "\n",
    "arr_of_names = ['T-shirt\/top', 'Trouser', 'Pullover', 'Dress', 'Coat', 'Sandal', 'Shirt', 'Sneaker', 'Bag', 'Ankle boot']"
   ],
   "execution_count":12,
   "outputs":[
    
   ],
   "metadata":{
    "datalore":{
     "node_id":"ta6rkNhL30DaJx7J3p0N97",
     "type":"CODE",
     "hide_input_from_viewers":true,
     "hide_output_from_viewers":true
    }
   }
  },
  {
   "cell_type":"markdown",
   "source":[
    "## Import data (fashion MNIST)\n",
    "\n",
    "Label Description\n",
    "\n",
    "0.\tT-shirt\/top\n",
    "1.\tTrouser\n",
    "2.\tPullover\n",
    "3.\tDress\n",
    "4.\tCoat\n",
    "5.\tSandal\n",
    "6.\tShirt\n",
    "7.\tSneaker\n",
    "8.\tBag\n",
    "9.\tAnkle boot"
   ],
   "attachments":{
    
   },
   "metadata":{
    "datalore":{
     "node_id":"KSjUMuNzvsh6hWA9ocNZiW",
     "type":"MD",
     "hide_input_from_viewers":true,
     "hide_output_from_viewers":true
    }
   }
  },
  {
   "cell_type":"code",
   "source":[
    "(x_train_full, y_train_full), (x_test, y_test)=tfds.fashion_mnist.load_data()\n",
    "x_train, x_valid, y_train, y_valid = train_test_split(x_train_full, y_train_full, test_size=train_valid_size)"
   ],
   "execution_count":13,
   "outputs":[
    {
     "name":"stdout",
     "text":[
      "Downloading data from https:\/\/storage.googleapis.com\/tensorflow\/tf-keras-datasets\/train-labels-idx1-ubyte.gz\n",
      "\r 8192\/29515 [=======>......................] - ETA: 0s\b\b\b\b\b\b\b\b\b\b\b\b\b\b\b\b\b\b\b\b\b\b\b\b\b\b\b\b\b\b\b\b\b\b\b\b\b\b\b\b\b\b\b\b\b\b\b\b\b\b\b\b\b\b\r29515\/29515 [==============================] - 0s 0us\/step\n",
      "Downloading data from https:\/\/storage.googleapis.com\/tensorflow\/tf-keras-datasets\/train-images-idx3-ubyte.gz\n",
      "\r    8192\/26421880 [..............................] - ETA: 0s\b\b\b\b\b\b\b\b\b\b\b\b\b\b\b\b\b\b\b\b\b\b\b\b\b\b\b\b\b\b\b\b\b\b\b\b\b\b\b\b\b\b\b\b\b\b\b\b\b\b\b\b\b\b\b\b\b\b\b\b\r   49152\/26421880 [..............................] - ETA: 1:04\b\b\b\b\b\b\b\b\b\b\b\b\b\b\b\b\b\b\b\b\b\b\b\b\b\b\b\b\b\b\b\b\b\b\b\b\b\b\b\b\b\b\b\b\b\b\b\b\b\b\b\b\b\b\b\b\b\b\b\b\b\b\r   81920\/26421880 [..............................] - ETA: 1:12\b\b\b\b\b\b\b\b\b\b\b\b\b\b\b\b\b\b\b\b\b\b\b\b\b\b\b\b\b\b\b\b\b\b\b\b\b\b\b\b\b\b\b\b\b\b\b\b\b\b\b\b\b\b\b\b\b\b\b\b\b\b\r  147456\/26421880 [..............................] - ETA: 49s \b\b\b\b\b\b\b\b\b\b\b\b\b\b\b\b\b\b\b\b\b\b\b\b\b\b\b\b\b\b\b\b\b\b\b\b\b\b\b\b\b\b\b\b\b\b\b\b\b\b\b\b\b\b\b\b\b\b\b\b\b\r  212992\/26421880 [..............................] - ETA: 40s\b\b\b\b\b\b\b\b\b\b\b\b\b\b\b\b\b\b\b\b\b\b\b\b\b\b\b\b\b\b\b\b\b\b\b\b\b\b\b\b\b\b\b\b\b\b\b\b\b\b\b\b\b\b\b\b\b\b\b\b\b\r  278528\/26421880 [..............................] - ETA: 35s\b\b\b\b\b\b\b\b\b\b\b\b\b\b\b\b\b\b\b\b\b\b\b\b\b\b\b\b\b\b\b\b\b\b\b\b\b\b\b\b\b\b\b\b\b\b\b\b\b\b\b\b\b\b\b\b\b\b\b\b\b\r  376832\/26421880 [..............................] - ETA: 30s\b\b\b\b\b\b\b\b\b\b\b\b\b\b\b\b\b\b\b\b\b\b\b\b\b\b\b\b\b\b\b\b\b\b\b\b\b\b\b\b\b\b\b\b\b\b\b\b\b\b\b\b\b\b\b\b\b\b\b\b\b\r  557056\/26421880 [..............................] - ETA: 22s\b\b\b\b\b\b\b\b\b\b\b\b\b\b\b\b\b\b\b\b\b\b\b\b\b\b\b\b\b\b\b\b\b\b\b\b\b\b\b\b\b\b\b\b\b\b\b\b\b\b\b\b\b\b\b\b\b\b\b\b\b\r  770048\/26421880 [..............................] - ETA: 17s\b\b\b\b\b\b\b\b\b\b\b\b\b\b\b\b\b\b\b\b\b\b\b\b\b\b\b\b\b\b\b\b\b\b\b\b\b\b\b\b\b\b\b\b\b\b\b\b\b\b\b\b\b\b\b\b\b\b\b\b\b\r 1097728\/26421880 [>.............................] - ETA: 13s\b\b\b\b\b\b\b\b\b\b\b\b\b\b\b\b\b\b\b\b\b\b\b\b\b\b\b\b\b\b\b\b\b\b\b\b\b\b\b\b\b\b\b\b\b\b\b\b\b\b\b\b\b\b\b\b\b\b\b\b\b\r 1572864\/26421880 [>.............................] - ETA: 10s\b\b\b\b\b\b\b\b\b\b\b\b\b\b\b\b\b\b\b\b\b\b\b\b\b\b\b\b\b\b\b\b\b\b\b\b\b\b\b\b\b\b\b\b\b\b\b\b\b\b\b\b\b\b\b\b\b\b\b\b\b\r 2236416\/26421880 [=>............................] - ETA: 7s \b\b\b\b\b\b\b\b\b\b\b\b\b\b\b\b\b\b\b\b\b\b\b\b\b\b\b\b\b\b\b\b\b\b\b\b\b\b\b\b\b\b\b\b\b\b\b\b\b\b\b\b\b\b\b\b\b\b\b\b\r 3203072\/26421880 [==>...........................] - ETA: 5s\b\b\b\b\b\b\b\b\b\b\b\b\b\b\b\b\b\b\b\b\b\b\b\b\b\b\b\b\b\b\b\b\b\b\b\b\b\b\b\b\b\b\b\b\b\b\b\b\b\b\b\b\b\b\b\b\b\b\b\b\r 4571136\/26421880 [====>.........................] - ETA: 3s\b\b\b\b\b\b\b\b\b\b\b\b\b\b\b\b\b\b\b\b\b\b\b\b\b\b\b\b\b\b\b\b\b\b\b\b\b\b\b\b\b\b\b\b\b\b\b\b\b\b\b\b\b\b\b\b\b\b\b\b\r 6586368\/26421880 [======>.......................] - ETA: 2s\b\b\b\b\b\b\b\b\b\b\b\b\b\b\b\b\b\b\b\b\b\b\b\b\b\b\b\b\b\b\b\b\b\b\b\b\b\b\b\b\b\b\b\b\b\b\b\b\b\b\b\b\b\b\b\b\b\b\b\b\r 8396800\/26421880 [========>.....................] - ETA: 1s\b\b\b\b\b\b\b\b\b\b\b\b\b\b\b\b\b\b\b\b\b\b\b\b\b\b\b\b\b\b\b\b\b\b\b\b\b\b\b\b\b\b\b\b\b\b\b\b\b\b\b\b\b\b\b\b\b\b\b\b\r10125312\/26421880 [==========>...................] - ETA: 1s\b\b\b\b\b\b\b\b\b\b\b\b\b\b\b\b\b\b\b\b\b\b\b\b\b\b\b\b\b\b\b\b\b\b\b\b\b\b\b\b\b\b\b\b\b\b\b\b\b\b\b\b\b\b\b\b\b\b\b\b\r12181504\/26421880 [============>.................] - ETA: 1s\b\b\b\b\b\b\b\b\b\b\b\b\b\b\b\b\b\b\b\b\b\b\b\b\b\b\b\b\b\b\b\b\b\b\b\b\b\b\b\b\b\b\b\b\b\b\b\b\b\b\b\b\b\b\b\b\b\b\b\b\r13795328\/26421880 [==============>...............] - ETA: 0s\b\b\b\b\b\b\b\b\b\b\b\b\b\b\b\b\b\b\b\b\b\b\b\b\b\b\b\b\b\b\b\b\b\b\b\b\b\b\b\b\b\b\b\b\b\b\b\b\b\b\b\b\b\b\b\b\b\b\b\b\r17039360\/26421880 [==================>...........] - ETA: 0s\b\b\b\b\b\b\b\b\b\b\b\b\b\b\b\b\b\b\b\b\b\b\b\b\b\b\b\b\b\b\b\b\b\b\b\b\b\b\b\b\b\b\b\b\b\b\b\b\b\b\b\b\b\b\b\b\b\b\b\b\r17547264\/26421880 [==================>...........] - ETA: 0s\b\b\b\b\b\b\b\b\b\b\b\b\b\b\b\b\b\b\b\b\b\b\b\b\b\b\b\b\b\b\b\b\b\b\b\b\b\b\b\b\b\b\b\b\b\b\b\b\b\b\b\b\b\b\b\b\b\b\b\b\r21348352\/26421880 [=======================>......] - ETA: 0s\b\b\b\b\b\b\b\b\b\b\b\b\b\b\b\b\b\b\b\b\b\b\b\b\b\b\b\b\b\b\b\b\b\b\b\b\b\b\b\b\b\b\b\b\b\b\b\b\b\b\b\b\b\b\b\b\b\b\b\b\r25198592\/26421880 [===========================>..] - ETA: 0s\b\b\b\b\b\b\b\b\b\b\b\b\b\b\b\b\b\b\b\b\b\b\b\b\b\b\b\b\b\b\b\b\b\b\b\b\b\b\b\b\b\b\b\b\b\b\b\b\b\b\b\b\b\b\b\b\b\b\b\b\r26421880\/26421880 [==============================] - 1s 0us\/step\n",
      "Downloading data from https:\/\/storage.googleapis.com\/tensorflow\/tf-keras-datasets\/t10k-labels-idx1-ubyte.gz\n",
      "\r5148\/5148 [==============================] - 0s 0us\/step\n",
      "Downloading data from https:\/\/storage.googleapis.com\/tensorflow\/tf-keras-datasets\/t10k-images-idx3-ubyte.gz\n",
      "\r   8192\/4422102 [..............................] - ETA: 0s\b\b\b\b\b\b\b\b\b\b\b\b\b\b\b\b\b\b\b\b\b\b\b\b\b\b\b\b\b\b\b\b\b\b\b\b\b\b\b\b\b\b\b\b\b\b\b\b\b\b\b\b\b\b\b\b\b\b\r  49152\/4422102 [..............................] - ETA: 11s\b\b\b\b\b\b\b\b\b\b\b\b\b\b\b\b\b\b\b\b\b\b\b\b\b\b\b\b\b\b\b\b\b\b\b\b\b\b\b\b\b\b\b\b\b\b\b\b\b\b\b\b\b\b\b\b\b\b\b\r  81920\/4422102 [..............................] - ETA: 12s\b\b\b\b\b\b\b\b\b\b\b\b\b\b\b\b\b\b\b\b\b\b\b\b\b\b\b\b\b\b\b\b\b\b\b\b\b\b\b\b\b\b\b\b\b\b\b\b\b\b\b\b\b\b\b\b\b\b\b\r 147456\/4422102 [>.............................] - ETA: 8s \b\b\b\b\b\b\b\b\b\b\b\b\b\b\b\b\b\b\b\b\b\b\b\b\b\b\b\b\b\b\b\b\b\b\b\b\b\b\b\b\b\b\b\b\b\b\b\b\b\b\b\b\b\b\b\b\b\b\r 212992\/4422102 [>.............................] - ETA: 6s\b\b\b\b\b\b\b\b\b\b\b\b\b\b\b\b\b\b\b\b\b\b\b\b\b\b\b\b\b\b\b\b\b\b\b\b\b\b\b\b\b\b\b\b\b\b\b\b\b\b\b\b\b\b\b\b\b\b\r 294912\/4422102 [=>............................] - ETA: 5s\b\b\b\b\b\b\b\b\b\b\b\b\b\b\b\b\b\b\b\b\b\b\b\b\b\b\b\b\b\b\b\b\b\b\b\b\b\b\b\b\b\b\b\b\b\b\b\b\b\b\b\b\b\b\b\b\b\b\r 425984\/4422102 [=>............................] - ETA: 4s\b\b\b\b\b\b\b\b\b\b\b\b\b\b\b\b\b\b\b\b\b\b\b\b\b\b\b\b\b\b\b\b\b\b\b\b\b\b\b\b\b\b\b\b\b\b\b\b\b\b\b\b\b\b\b\b\b\b\r 622592\/4422102 [===>..........................] - ETA: 3s\b\b\b\b\b\b\b\b\b\b\b\b\b\b\b\b\b\b\b\b\b\b\b\b\b\b\b\b\b\b\b\b\b\b\b\b\b\b\b\b\b\b\b\b\b\b\b\b\b\b\b\b\b\b\b\b\b\b\r 851968\/4422102 [====>.........................] - ETA: 2s\b\b\b\b\b\b\b\b\b\b\b\b\b\b\b\b\b\b\b\b\b\b\b\b\b\b\b\b\b\b\b\b\b\b\b\b\b\b\b\b\b\b\b\b\b\b\b\b\b\b\b\b\b\b\b\b\b\b\r1245184\/4422102 [=======>......................] - ETA: 1s\b\b\b\b\b\b\b\b\b\b\b\b\b\b\b\b\b\b\b\b\b\b\b\b\b\b\b\b\b\b\b\b\b\b\b\b\b\b\b\b\b\b\b\b\b\b\b\b\b\b\b\b\b\b\b\b\b\b\r1785856\/4422102 [===========>..................] - ETA: 0s\b\b\b\b\b\b\b\b\b\b\b\b\b\b\b\b\b\b\b\b\b\b\b\b\b\b\b\b\b\b\b\b\b\b\b\b\b\b\b\b\b\b\b\b\b\b\b\b\b\b\b\b\b\b\b\b\b\b\r2547712\/4422102 [================>.............] - ETA: 0s\b\b\b\b\b\b\b\b\b\b\b\b\b\b\b\b\b\b\b\b\b\b\b\b\b\b\b\b\b\b\b\b\b\b\b\b\b\b\b\b\b\b\b\b\b\b\b\b\b\b\b\b\b\b\b\b\b\b\r3678208\/4422102 [=======================>......] - ETA: 0s\b\b\b\b\b\b\b\b\b\b\b\b\b\b\b\b\b\b\b\b\b\b\b\b\b\b\b\b\b\b\b\b\b\b\b\b\b\b\b\b\b\b\b\b\b\b\b\b\b\b\b\b\b\b\b\b\b\b\r4422102\/4422102 [==============================] - 1s 0us\/step\n"
     ],
     "output_type":"stream"
    }
   ],
   "metadata":{
    "datalore":{
     "node_id":"dFHmqIsflm5vYyQsOaASIK",
     "type":"CODE",
     "hide_input_from_viewers":true,
     "hide_output_from_viewers":true
    }
   }
  },
  {
   "cell_type":"markdown",
   "source":[
    "### show"
   ],
   "attachments":{
    
   },
   "metadata":{
    "datalore":{
     "node_id":"AW4Zj0yDXB1p9vaQVqBnHy",
     "type":"MD",
     "hide_input_from_viewers":true,
     "hide_output_from_viewers":true
    }
   }
  },
  {
   "cell_type":"code",
   "source":[
    "plt.imshow(x_train_full[0], cmap='Greys')"
   ],
   "execution_count":14,
   "outputs":[
    {
     "data":{
      "text\/plain":[
       "<matplotlib.image.AxesImage at 0x7f36380f9fa0>"
      ]
     },
     "metadata":{
      
     },
     "output_type":"display_data"
    },
    {
     "data":{
      "image\/png":"[encoded data removed]"
     },
     "metadata":{
      "image\/png":{
       
      }
     },
     "output_type":"display_data"
    }
   ],
   "metadata":{
    "datalore":{
     "node_id":"LOJPUsxs6sVxZnodnjSyyi",
     "type":"CODE",
     "hide_input_from_viewers":true,
     "hide_output_from_viewers":true
    }
   }
  },
  {
   "cell_type":"code",
   "source":[
    "data = {}\n",
    "for i in np.unique(y_train_full):\n",
    "  images = x_train_full[y_train_full==i]\n",
    "  data[arr_of_names[i]] = [images.shape[0]]\n",
    "data = pd.DataFrame(data).T\n",
    "data.rename(columns={0:'instance_numbers'})"
   ],
   "execution_count":15,
   "outputs":[
    {
     "data":{
      "text\/html":[
       "<div>\n",
       "<style scoped>\n",
       "    .dataframe tbody tr th:only-of-type {\n",
       "        vertical-align: middle;\n",
       "    }\n",
       "\n",
       "    .dataframe tbody tr th {\n",
       "        vertical-align: top;\n",
       "    }\n",
       "\n",
       "    .dataframe thead th {\n",
       "        text-align: right;\n",
       "    }\n",
       "<\/style>\n",
       "<table border=\"1\" class=\"dataframe\">\n",
       "  <thead>\n",
       "    <tr style=\"text-align: right;\">\n",
       "      <th><\/th>\n",
       "      <th>instance_numbers<\/th>\n",
       "    <\/tr>\n",
       "  <\/thead>\n",
       "  <tbody>\n",
       "    <tr>\n",
       "      <th>T-shirt\/top<\/th>\n",
       "      <td>6000<\/td>\n",
       "    <\/tr>\n",
       "    <tr>\n",
       "      <th>Trouser<\/th>\n",
       "      <td>6000<\/td>\n",
       "    <\/tr>\n",
       "    <tr>\n",
       "      <th>Pullover<\/th>\n",
       "      <td>6000<\/td>\n",
       "    <\/tr>\n",
       "    <tr>\n",
       "      <th>Dress<\/th>\n",
       "      <td>6000<\/td>\n",
       "    <\/tr>\n",
       "    <tr>\n",
       "      <th>Coat<\/th>\n",
       "      <td>6000<\/td>\n",
       "    <\/tr>\n",
       "    <tr>\n",
       "      <th>Sandal<\/th>\n",
       "      <td>6000<\/td>\n",
       "    <\/tr>\n",
       "    <tr>\n",
       "      <th>Shirt<\/th>\n",
       "      <td>6000<\/td>\n",
       "    <\/tr>\n",
       "    <tr>\n",
       "      <th>Sneaker<\/th>\n",
       "      <td>6000<\/td>\n",
       "    <\/tr>\n",
       "    <tr>\n",
       "      <th>Bag<\/th>\n",
       "      <td>6000<\/td>\n",
       "    <\/tr>\n",
       "    <tr>\n",
       "      <th>Ankle boot<\/th>\n",
       "      <td>6000<\/td>\n",
       "    <\/tr>\n",
       "  <\/tbody>\n",
       "<\/table>\n",
       "<\/div>"
      ]
     },
     "metadata":{
      
     },
     "output_type":"display_data"
    }
   ],
   "metadata":{
    "datalore":{
     "node_id":"vnWdj7qr38X9CCNVJsWVmZ",
     "type":"CODE",
     "hide_input_from_viewers":true,
     "hide_output_from_viewers":true
    }
   }
  },
  {
   "cell_type":"code",
   "source":[
    "column_num=3\n",
    "instance_num = np.unique(y_train_full).shape[0]\n",
    "row_num = int(np.ceil(instance_num\/column_num))\n",
    "\n",
    "plt.figure(figsize=(15,20))\n",
    "for j, i in enumerate(np.unique(y_train_full)):\n",
    "    plt.subplot(row_num, column_num, j+1)\n",
    "    plt.imshow(x_train_full[y_train_full==i][0], cmap='Greys')\n",
    "    plt.title(arr_of_names[i])\n",
    "plt.show()"
   ],
   "execution_count":16,
   "outputs":[
    {
     "data":{
      "image\/png":"[encoded data removed]"
     },
     "metadata":{
      "image\/png":{
       
      }
     },
     "output_type":"display_data"
    }
   ],
   "metadata":{
    "datalore":{
     "node_id":"Gl8dV0jqKsO88KYEFhKjkk",
     "type":"CODE",
     "hide_input_from_viewers":true,
     "hide_output_from_viewers":true
    }
   }
  },
  {
   "cell_type":"code",
   "source":[
    "class_number=6\n",
    "column_num=3\n",
    "instance_num=12\n",
    "row_num = int(np.ceil(instance_num\/column_num))\n",
    "\n",
    "plt.figure(figsize=(15,20))\n",
    "images = x_train_full[y_train_full==class_number]\n",
    "for i in range(instance_num):\n",
    "    plt.subplot(row_num, column_num, i+1)\n",
    "    plt.imshow(images[i], cmap='Greys')\n",
    "    plt.title(arr_of_names[class_number])\n",
    "\n",
    "plt.show()"
   ],
   "execution_count":17,
   "outputs":[
    {
     "data":{
      "image\/png":"[encoded data removed]"
     },
     "metadata":{
      "image\/png":{
       
      }
     },
     "output_type":"display_data"
    }
   ],
   "metadata":{
    "datalore":{
     "node_id":"OhBuJr1km4R5UqDEEwoMCl",
     "type":"CODE",
     "hide_input_from_viewers":true,
     "hide_output_from_viewers":true
    }
   }
  },
  {
   "cell_type":"markdown",
   "source":[
    "### preprocess"
   ],
   "attachments":{
    
   },
   "metadata":{
    "datalore":{
     "node_id":"AXhmXjPUij8KtwIoaeMPon",
     "type":"MD",
     "hide_input_from_viewers":true,
     "hide_output_from_viewers":true
    }
   }
  },
  {
   "cell_type":"code",
   "source":[
    "x_train = x_train.reshape([-1,28,28,1])\n",
    "x_valid = x_valid.reshape([-1,28,28,1])\n",
    "x_test  = x_test.reshape( [-1,28,28,1])\n",
    "\n",
    "x_train = x_train\/255.0\n",
    "x_valid = x_valid\/255.0\n",
    "x_test = x_test\/255.0"
   ],
   "execution_count":14,
   "outputs":[
    
   ],
   "metadata":{
    "datalore":{
     "node_id":"WwPkwqBZGP5VGTMVDxieMg",
     "type":"CODE",
     "hide_input_from_viewers":true,
     "hide_output_from_viewers":true
    }
   }
  },
  {
   "cell_type":"code",
   "source":[
    "y_test  = to_categorical(y_test , dtype =\"uint8\")\n",
    "y_train = to_categorical(y_train, dtype =\"uint8\")\n",
    "y_valid = to_categorical(y_valid, dtype =\"uint8\")"
   ],
   "execution_count":15,
   "outputs":[
    
   ],
   "metadata":{
    "datalore":{
     "node_id":"CTvLYKclDwaVb3c5b8lOSn",
     "type":"CODE",
     "hide_input_from_viewers":true,
     "hide_output_from_viewers":true
    }
   }
  },
  {
   "cell_type":"markdown",
   "source":[
    "### check"
   ],
   "attachments":{
    
   },
   "metadata":{
    "datalore":{
     "node_id":"1Zoy3GgVqi18efD1JRZlKA",
     "type":"MD",
     "hide_input_from_viewers":true,
     "hide_output_from_viewers":true
    }
   }
  },
  {
   "cell_type":"code",
   "source":[
    "y_test[0]"
   ],
   "execution_count":16,
   "outputs":[
    {
     "data":{
      "text\/html":[
       "<pre>array([0, 0, 0, 0, 0, 0, 0, 0, 0, 1], dtype=uint8)<\/pre>"
      ]
     },
     "metadata":{
      
     },
     "output_type":"display_data"
    }
   ],
   "metadata":{
    "datalore":{
     "node_id":"rbOipp8MwTQgx6Q441s21S",
     "type":"CODE",
     "hide_input_from_viewers":true,
     "hide_output_from_viewers":true
    }
   }
  },
  {
   "cell_type":"markdown",
   "source":[
    "## Model"
   ],
   "attachments":{
    
   },
   "metadata":{
    "datalore":{
     "node_id":"52u1t7FmtFAUtXCvw5E0gM",
     "type":"MD",
     "hide_input_from_viewers":true,
     "hide_output_from_viewers":true
    }
   }
  },
  {
   "cell_type":"markdown",
   "source":[
    "### Creating"
   ],
   "attachments":{
    
   },
   "metadata":{
    "datalore":{
     "node_id":"urOiDuWvgveYgUsQHoICPy",
     "type":"MD",
     "hide_input_from_viewers":true,
     "hide_output_from_viewers":true
    }
   }
  },
  {
   "cell_type":"markdown",
   "source":[
    "#### Small architecture"
   ],
   "attachments":{
    
   },
   "metadata":{
    "datalore":{
     "node_id":"YCnCzFBpFjMSCL9hkuljyC",
     "type":"MD",
     "hide_input_from_viewers":true,
     "hide_output_from_viewers":true
    }
   }
  },
  {
   "cell_type":"code",
   "source":[
    "def small_model():\n",
    "    input_layer = Input(shape_of_fashion_mnist)\n",
    "    x = deep_retina_like(input_layer, 3, 64, 32,\n",
    "                        [(64, 'relu'), (32, 'relu')],\n",
    "                        activation_retina='relu')\n",
    "    x = MaxPool2D((2,2))(x)\n",
    "    x = deep_retina_like(x, 3, 64, 32,\n",
    "                        [(64, 'relu'), (32, 'relu')],\n",
    "                        activation_retina='relu')\n",
    "    x = MaxPool2D((2,2))(x)\n",
    "    x = deep_retina_like(x, 3, 64, 32,\n",
    "                        [(64, 'relu'), (32, 'relu')],\n",
    "                        activation_retina='relu')\n",
    "    x = Flatten()(x)\n",
    "    x = Dropout(0.75)(x)\n",
    "    x = Dense(100, activation='relu')(x)\n",
    "    x = Dropout(0.65)(x)\n",
    "    x = Dense(10, activation='softmax')(x)\n",
    "    return input_layer, x"
   ],
   "execution_count":17,
   "outputs":[
    
   ],
   "metadata":{
    "datalore":{
     "node_id":"CLuFHx5iRAP3aKukaYkeu4",
     "type":"CODE",
     "hide_input_from_viewers":true,
     "hide_output_from_viewers":true
    }
   }
  },
  {
   "cell_type":"markdown",
   "source":[
    "#### Big architecture"
   ],
   "attachments":{
    
   },
   "metadata":{
    "datalore":{
     "node_id":"KzC1MXI3isknS0UjWqSr69",
     "type":"MD",
     "hide_input_from_viewers":true,
     "hide_output_from_viewers":true
    }
   }
  },
  {
   "cell_type":"code",
   "source":[
    "def big_model():\n",
    "    input_layer = Input(shape_of_fashion_mnist)\n",
    "\n",
    "    x=retina_like(input_layer, 3, 64, 32, activation='relu')\n",
    "\n",
    "    x=retina_inception(x, 32, 32, 64, 16, 16, 16, 16, 16, activation='relu')\n",
    "\n",
    "    x=inception(x, 32, 32, 64, 16, 16, 16, activation='relu')\n",
    "\n",
    "    x=inception(x, 32, 32, 64, 16, 16, 16, activation='relu')\n",
    "\n",
    "    x=deep_retina_like(x, 3, 64, 32, [(128, 'relu'),(128, 'relu')])\n",
    "    x=Conv2D(64, 3, activation='relu')(x)\n",
    "\n",
    "    x = Flatten()(x)\n",
    "    x = Dropout(0.93)(x)\n",
    "    x = Dense(128, activation='relu')(x)\n",
    "\n",
    "    x = Dense(10, activation='softmax')(x)\n",
    "\n",
    "    return input_layer, x\n",
    "# better used with learning rate scheduler"
   ],
   "execution_count":18,
   "outputs":[
    
   ],
   "metadata":{
    "datalore":{
     "node_id":"VWWg6eyOCWGnEJ95PtNeN0",
     "type":"CODE",
     "hide_input_from_viewers":true,
     "hide_output_from_viewers":true
    }
   }
  },
  {
   "cell_type":"code",
   "source":[
    "model_type = 'small'\n",
    "input_layer, x = None, None\n",
    "if model_type == 'big':\n",
    "    input_layer, x = big_model()\n",
    "elif model_type == 'small':\n",
    "    input_layer, x = small_model()\n",
    "model = Model(inputs=input_layer, outputs=x, name=\"mnist_model\")"
   ],
   "execution_count":19,
   "outputs":[
    
   ],
   "metadata":{
    "datalore":{
     "node_id":"WPwzDEABgALwxQroHqj5Ru",
     "type":"CODE",
     "hide_input_from_viewers":true,
     "hide_output_from_viewers":true
    }
   }
  },
  {
   "cell_type":"code",
   "source":[
    "class_weights={\n",
    "    0:1,\n",
    "    1:1,\n",
    "    2:1,\n",
    "    3:1,\n",
    "    4:1,\n",
    "    5:1,\n",
    "    6:2,\n",
    "    7:1,\n",
    "    8:1,\n",
    "    9:1,\n",
    "}\n",
    "\n",
    "if model_type == 'small':\n",
    "    class_weights[6] = 1.25"
   ],
   "execution_count":null,
   "outputs":[
    
   ],
   "metadata":{
    "datalore":{
     "node_id":"2Slp0NvEDviZKveHbvGXZ1",
     "type":"CODE",
     "hide_input_from_viewers":true,
     "hide_output_from_viewers":true
    }
   }
  },
  {
   "cell_type":"markdown",
   "source":[
    "#### Show model"
   ],
   "attachments":{
    
   },
   "metadata":{
    "datalore":{
     "node_id":"nCkJBwWlz2mqbwJB1T3sWQ",
     "type":"MD",
     "hide_input_from_viewers":true,
     "hide_output_from_viewers":true
    }
   }
  },
  {
   "cell_type":"code",
   "source":[
    "model.summary()"
   ],
   "execution_count":20,
   "outputs":[
    
   ],
   "metadata":{
    "datalore":{
     "node_id":"pRDLrXIpIuylyqkSTtedRt",
     "type":"CODE",
     "hide_input_from_viewers":true,
     "hide_output_from_viewers":true
    }
   }
  },
  {
   "cell_type":"code",
   "source":[
    "plot_model(model, show_shapes=True)"
   ],
   "execution_count":null,
   "outputs":[
    
   ],
   "metadata":{
    "datalore":{
     "node_id":"hKjrRZ4bLvvmQmBPNWM3LO",
     "type":"CODE",
     "hide_input_from_viewers":true,
     "hide_output_from_viewers":true
    }
   }
  },
  {
   "cell_type":"markdown",
   "source":[
    "### Training"
   ],
   "attachments":{
    
   },
   "metadata":{
    "datalore":{
     "node_id":"wE1v4qmfkBraJR8GJcXHtX",
     "type":"MD",
     "hide_input_from_viewers":true,
     "hide_output_from_viewers":true
    }
   }
  },
  {
   "cell_type":"code",
   "source":[
    "learn_rate = None\n",
    "if model_type == 'small':\n",
    "    learn_rate = 0.0001\n",
    "elif model_type == 'big':\n",
    "    learn_rate = tf.keras.optimizers.schedules.ExponentialDecay(0.00015, 1500, 0.93, staircase=True)"
   ],
   "execution_count":null,
   "outputs":[
    
   ],
   "metadata":{
    "datalore":{
     "node_id":"vdnJ5i2Qs4waeceV1vS1zB",
     "type":"CODE",
     "hide_input_from_viewers":true,
     "hide_output_from_viewers":true
    }
   }
  },
  {
   "cell_type":"code",
   "source":[
    "model.compile(optimizer=Adam(0.0001),\n",
    "              loss='categorical_crossentropy',\n",
    "              metrics=['accuracy'])"
   ],
   "execution_count":27,
   "outputs":[
    
   ],
   "metadata":{
    "datalore":{
     "node_id":"1g8v3DRmfWnEDqR0Iszflt",
     "type":"CODE",
     "hide_input_from_viewers":true,
     "hide_output_from_viewers":true
    }
   }
  },
  {
   "cell_type":"code",
   "source":[
    "epochs = 50\n",
    "\n",
    "checkpointer = ModelCheckpoint(\n",
    "    filepath=f'RetinaBased_{model_type}.model.{epochs}epochs.hdf5', \n",
    "    save_best_only=True, \n",
    "    monitor=\"val_loss\")\n",
    "\n",
    "\n",
    "history=model.fit(x_train, y_train, \n",
    "          batch_size=32, \n",
    "          epochs=epochs, \n",
    "          verbose=1, \n",
    "          validation_data=(x_valid, y_valid),\n",
    "          class_weight=class_weights,\n",
    "          callbacks=[checkpointer])"
   ],
   "execution_count":28,
   "outputs":[
    
   ],
   "metadata":{
    "datalore":{
     "node_id":"G3ct67yZ1cEZqlzGix89H0",
     "type":"CODE",
     "hide_input_from_viewers":true,
     "hide_output_from_viewers":true
    }
   }
  },
  {
   "cell_type":"markdown",
   "source":[
    "### Load best weight by val loss"
   ],
   "attachments":{
    
   },
   "metadata":{
    "datalore":{
     "node_id":"WVpzQi55TxKcja26O8gwyH",
     "type":"MD",
     "hide_input_from_viewers":true,
     "hide_output_from_viewers":true
    }
   }
  },
  {
   "cell_type":"code",
   "source":[
    "model.load_weights(f'RetinaBased_{model_type}.model.{epochs}epochs.hdf5')"
   ],
   "execution_count":null,
   "outputs":[
    
   ],
   "metadata":{
    "datalore":{
     "node_id":"uXrPvjzae3UQPtgGpT6JbP",
     "type":"CODE",
     "hide_input_from_viewers":true,
     "hide_output_from_viewers":true
    }
   }
  },
  {
   "cell_type":"markdown",
   "source":[
    "### Evaluation"
   ],
   "attachments":{
    
   },
   "metadata":{
    "datalore":{
     "node_id":"ghGRxF3Wpduba23XXL5PyC",
     "type":"MD",
     "hide_input_from_viewers":true,
     "hide_output_from_viewers":true
    }
   }
  },
  {
   "cell_type":"code",
   "source":[
    "model.evaluate(x_test, y_test, 10)"
   ],
   "execution_count":null,
   "outputs":[
    
   ],
   "metadata":{
    "datalore":{
     "node_id":"MoNJhJSywBPD3oduTUU7mF",
     "type":"CODE",
     "hide_input_from_viewers":true,
     "hide_output_from_viewers":true
    }
   }
  },
  {
   "cell_type":"code",
   "source":[
    "show_train_graphs(history)"
   ],
   "execution_count":null,
   "outputs":[
    
   ],
   "metadata":{
    "datalore":{
     "node_id":"11cmpW8u1QbabaEo8IPncR",
     "type":"CODE",
     "hide_input_from_viewers":true,
     "hide_output_from_viewers":true
    }
   }
  },
  {
   "cell_type":"code",
   "source":[
    "show_prediction_results_deployed(model, x_test, y_test)"
   ],
   "execution_count":null,
   "outputs":[
    
   ],
   "metadata":{
    "datalore":{
     "node_id":"jJeZGH8hTsSoaVIhp62oTS",
     "type":"CODE",
     "hide_input_from_viewers":true,
     "hide_output_from_viewers":true
    }
   }
  }
 ],
 "metadata":{
  "kernelspec":{
   "display_name":"Python",
   "language":"python",
   "name":"python"
  },
  "datalore":{
   "computation_mode":"JUPYTER",
   "package_manager":"pip",
   "base_environment":"default",
   "packages":[
    
   ],
   "report_row_ids":[
    
   ],
   "version":3
  }
 },
 "nbformat":4,
 "nbformat_minor":4
}